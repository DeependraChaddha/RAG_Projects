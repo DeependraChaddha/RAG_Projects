{
  "nbformat": 4,
  "nbformat_minor": 0,
  "metadata": {
    "colab": {
      "provenance": [],
      "authorship_tag": "ABX9TyMJ6JwYj85pOfhu+SEHanIU",
      "include_colab_link": true
    },
    "kernelspec": {
      "name": "python3",
      "display_name": "Python 3"
    },
    "language_info": {
      "name": "python"
    }
  },
  "cells": [
    {
      "cell_type": "markdown",
      "metadata": {
        "id": "view-in-github",
        "colab_type": "text"
      },
      "source": [
        "<a href=\"https://colab.research.google.com/github/DeependraChaddha/RAG_Projects/blob/main/RAG_1.ipynb\" target=\"_parent\"><img src=\"https://colab.research.google.com/assets/colab-badge.svg\" alt=\"Open In Colab\"/></a>"
      ]
    },
    {
      "cell_type": "markdown",
      "source": [
        "##Setting up Environment"
      ],
      "metadata": {
        "id": "yLnjlVYJwFq_"
      }
    },
    {
      "cell_type": "markdown",
      "source": [
        "Importing Packages"
      ],
      "metadata": {
        "id": "mG2UqYb2v_Jb"
      }
    },
    {
      "cell_type": "code",
      "execution_count": null,
      "metadata": {
        "id": "8r12qXwNv6GA"
      },
      "outputs": [],
      "source": [
        "! pip install langchain_community tiktoken langchain-openai langchainhub chromadb langchain"
      ]
    },
    {
      "cell_type": "markdown",
      "source": [
        "Langsmith\n"
      ],
      "metadata": {
        "id": "qaDiV_2kwiBY"
      }
    },
    {
      "cell_type": "code",
      "source": [
        "import os\n",
        "os.environ['LANGCHAIN_TRACING_V2']='true'\n",
        "os.environ['LANGCHAIN_ENDPOINT']='https://api.smith.langchain.com'\n",
        "os.environ['LANGCHAIN_API_KEY']= ######FILL API KEY HERE######"
      ],
      "metadata": {
        "id": "4tp2nR9SwjKj"
      },
      "execution_count": null,
      "outputs": []
    },
    {
      "cell_type": "markdown",
      "source": [
        "API Key"
      ],
      "metadata": {
        "id": "XHtYZUUixHBt"
      }
    },
    {
      "cell_type": "code",
      "source": [
        "os.environ['OPENAI_API_KEY']=######FILL API KEY HERE######"
      ],
      "metadata": {
        "id": "1vpZN4AhxE-O"
      },
      "execution_count": null,
      "outputs": []
    },
    {
      "cell_type": "markdown",
      "source": [
        "##Overview\n"
      ],
      "metadata": {
        "id": "h3qm4kC178Ph"
      }
    },
    {
      "cell_type": "markdown",
      "source": [
        "make imports"
      ],
      "metadata": {
        "id": "tKXkdbiC8TAI"
      }
    },
    {
      "cell_type": "code",
      "source": [
        "import bs4 #BeautifulSoup for extracting data from HTML or XML files\n",
        "from langchain import hub #tool for managing components from LangChain framework\n",
        "from langchain.text_splitter import RecursiveCharacterTextSplitter #for text splitting\n",
        "from langchain_community.document_loaders import WebBaseLoader\n",
        "from langchain_community.vectorstores import Chroma\n",
        "from langchain_core.output_parsers import StrOutputParser\n",
        "from langchain_core.runnables import RunnablePassthrough\n",
        "from langchain_openai import ChatOpenAI, OpenAIEmbeddings\n"
      ],
      "metadata": {
        "id": "mzaV0L-b7_1p"
      },
      "execution_count": null,
      "outputs": []
    },
    {
      "cell_type": "markdown",
      "source": [
        "INDEXING"
      ],
      "metadata": {
        "id": "-E2ms4y892fH"
      }
    },
    {
      "cell_type": "code",
      "source": [
        "#Loading documents\n",
        "loader=WebBaseLoader(\n",
        "    web_paths=(\"https://lilianweng.github.io/posts/2023-06-23-agent/\",),\n",
        "    bs_kwargs=dict(\n",
        "        parse_only=bs4.SoupStrainer(\n",
        "        class_=(\"post-content\", \"post-title\", \"post-header\")\n",
        "                )\n",
        "        ),\n",
        ")#Made an instance of the WebBaseLoader class from langchain_community package\n",
        "docs=loader.load()#used load method of this class\n",
        "\n",
        "#Split\n",
        "text_splitter=RecursiveCharacterTextSplitter(chunksize=1000, chunk_overlap=200)\n",
        "splits=text_splitter.split_documents(docs)\n",
        "\n",
        "#Embed\n",
        "vectorstore=Chroma.from_documents(documents=splits,\n",
        "                                  embedding=OpenAIEmbeddings())\n",
        "retriever=vectorstore.as_retriever()\n"
      ],
      "metadata": {
        "id": "z3MoxptI92L1"
      },
      "execution_count": null,
      "outputs": []
    },
    {
      "cell_type": "markdown",
      "source": [
        "RETRIEVAL AND GENERATION"
      ],
      "metadata": {
        "id": "USceviNfHiBp"
      }
    },
    {
      "cell_type": "code",
      "source": [
        "#prompt\n",
        "prompt=hub.pull(\"rlm/rag-prompt\")\n",
        "\n",
        "#LLM\n",
        "llm=ChatOpenAI(model_name=\"gpt-3.5-turbo\", temperature=0)\n",
        "\n",
        "#post-processing\n",
        "def format_docs(docs):\n",
        "  return \"\\n\\n\".join(doc.page_content for doc in docs)\n",
        "\n",
        "#Chain\n",
        "rag_chain= (\n",
        "    {\"context\": retriever | format_docs, \"question\": RunnablePassthrough()}\n",
        "    | prompt\n",
        "    | llm\n",
        "    | StrOutputParser()\n",
        ")\n",
        "\n",
        "#Question\n",
        "rag_chain.invoke(\"Any Question?\")"
      ],
      "metadata": {
        "id": "XCVra99nHkL6"
      },
      "execution_count": null,
      "outputs": []
    },
    {
      "cell_type": "markdown",
      "source": [
        "##Indexing"
      ],
      "metadata": {
        "id": "TBFny55N6KzC"
      }
    },
    {
      "cell_type": "code",
      "source": [
        "#Documents\n",
        "question=\"Any Question?\"\n",
        "document=\"any answer/document\""
      ],
      "metadata": {
        "id": "WUSx-Nmu6QnN"
      },
      "execution_count": null,
      "outputs": []
    },
    {
      "cell_type": "code",
      "source": [
        "import tiktoken\n",
        "\n",
        "def num_tokens_from_string(string:str, encoding_name:str) -> int: ###This function returns the number of tokens in a string\n",
        "  encoding=tiktoken.get_encoding(encoding_name)\n",
        "  num_tokens=len(encoding.encode(string))\n",
        "  return num_tokens\n",
        "\n",
        "num_token_from_string(question, \"cl100kbase\") #takes string to convert to tokens and string which tells the name of encoding being used\n",
        ""
      ],
      "metadata": {
        "id": "6hv3MWbc6l1h"
      },
      "execution_count": null,
      "outputs": []
    }
  ]
}