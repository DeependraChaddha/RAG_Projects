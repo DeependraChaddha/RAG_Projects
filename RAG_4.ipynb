{
  "nbformat": 4,
  "nbformat_minor": 0,
  "metadata": {
    "colab": {
      "provenance": [],
      "authorship_tag": "ABX9TyOmKNliG0kNI8cLtmzuER8O",
      "include_colab_link": true
    },
    "kernelspec": {
      "name": "python3",
      "display_name": "Python 3"
    },
    "language_info": {
      "name": "python"
    }
  },
  "cells": [
    {
      "cell_type": "markdown",
      "metadata": {
        "id": "view-in-github",
        "colab_type": "text"
      },
      "source": [
        "<a href=\"https://colab.research.google.com/github/DeependraChaddha/RAG_Projects/blob/main/RAG_4.ipynb\" target=\"_parent\"><img src=\"https://colab.research.google.com/assets/colab-badge.svg\" alt=\"Open In Colab\"/></a>"
      ]
    },
    {
      "cell_type": "markdown",
      "source": [
        "##QUERY CONSTRUCTION"
      ],
      "metadata": {
        "id": "vJAj5SFksOZF"
      }
    },
    {
      "cell_type": "markdown",
      "source": [
        "Query Construction refers to taking the query as natural language and converting it into domain-specific language for the selected data source. This is done for better retrieval"
      ],
      "metadata": {
        "id": "Pbo41HN3sTuy"
      }
    },
    {
      "cell_type": "markdown",
      "source": [
        "This following code is to fetch metadata from youtube transcripts of videos"
      ],
      "metadata": {
        "id": "erXC5FvqzlrL"
      }
    },
    {
      "cell_type": "code",
      "execution_count": null,
      "metadata": {
        "id": "RxLvuhKSsKNp"
      },
      "outputs": [],
      "source": [
        "#make imports\n",
        "from langchain_community.document_loaders import YoutubeLoader\n",
        "\n",
        "docs=YoutubLoader.from_youtube_url(\n",
        "    \"https://www.youtube.com/watch?v=pbAd8O1Lvm4\",\n",
        "    add_video_info=True,\n",
        ").load()\n",
        "\n",
        "docs[0].metadata\n"
      ]
    },
    {
      "cell_type": "markdown",
      "source": [
        "Make schema for structured search queries"
      ],
      "metadata": {
        "id": "qgHGAk5W2duG"
      }
    },
    {
      "cell_type": "code",
      "source": [
        "#make imports\n",
        "import datetime\n",
        "from typing import Literal, Optional, Tuple\n",
        "fromlangchain_core.pydantic_v1 import BaseModel, Field\n",
        "\n",
        "class TutorialSearch(BaseModel):\n",
        "  ###Searches over database of tutorial videos about a software library###\n",
        ""
      ],
      "metadata": {
        "id": "vF_iPQEz20DI"
      },
      "execution_count": null,
      "outputs": []
    }
  ]
}