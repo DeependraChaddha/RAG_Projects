{
  "nbformat": 4,
  "nbformat_minor": 0,
  "metadata": {
    "colab": {
      "provenance": [],
      "authorship_tag": "ABX9TyOXGht2b4amGYtAQ8lBCmDS",
      "include_colab_link": true
    },
    "kernelspec": {
      "name": "python3",
      "display_name": "Python 3"
    },
    "language_info": {
      "name": "python"
    }
  },
  "cells": [
    {
      "cell_type": "markdown",
      "metadata": {
        "id": "view-in-github",
        "colab_type": "text"
      },
      "source": [
        "<a href=\"https://colab.research.google.com/github/DeependraChaddha/RAG_Projects/blob/main/RAG_5.ipynb\" target=\"_parent\"><img src=\"https://colab.research.google.com/assets/colab-badge.svg\" alt=\"Open In Colab\"/></a>"
      ]
    },
    {
      "cell_type": "markdown",
      "source": [
        "##ENVIRONMENT"
      ],
      "metadata": {
        "id": "ZZlcqF0Wf1W4"
      }
    },
    {
      "cell_type": "markdown",
      "source": [
        "INSTALLING PACKAGES"
      ],
      "metadata": {
        "id": "YhnO3asAgQXV"
      }
    },
    {
      "cell_type": "code",
      "execution_count": null,
      "metadata": {
        "id": "uiB8Zi7gfwpw"
      },
      "outputs": [],
      "source": [
        "!pip install langchain_community tiktoken langchain-openai langchainhub chromadb langchain youtube-transcript-api pytube"
      ]
    },
    {
      "cell_type": "markdown",
      "source": [
        "SETTING UP LANGSMITH"
      ],
      "metadata": {
        "id": "GIQBK4togyGw"
      }
    },
    {
      "cell_type": "code",
      "source": [
        "import os\n",
        "os.environ['LANGCHAIN_TRACING_V2']='true'\n",
        "os.environ['LANGCHAIN_ENDPOINT']= 'https://api.smith.langchain.com'\n",
        "os.environ['LANGCHAIN_API_KEY']=###YOUR API KEY###"
      ],
      "metadata": {
        "id": "w1mf8Wvtg6R0"
      },
      "execution_count": null,
      "outputs": []
    },
    {
      "cell_type": "markdown",
      "source": [
        "SETTING OPENAI"
      ],
      "metadata": {
        "id": "AumgEkT-hgHL"
      }
    },
    {
      "cell_type": "code",
      "source": [
        "os.environ['OPENAI_API_KEY']=###YOUR API KEY###"
      ],
      "metadata": {
        "id": "IXsBUTcMhjZU"
      },
      "execution_count": null,
      "outputs": []
    },
    {
      "cell_type": "markdown",
      "source": [
        "##MULTI-REPRESENTATION INDEXES"
      ],
      "metadata": {
        "id": "ieDQLFQOhvro"
      }
    },
    {
      "cell_type": "markdown",
      "source": [
        "LOAD REQUIRED DOCUMENTS"
      ],
      "metadata": {
        "id": "N9MAEt1ijxUu"
      }
    },
    {
      "cell_type": "code",
      "source": [
        "#make imports\n",
        "from langchain_community.document_loaders import WebBaseLoader\n",
        "from langchain_text_splitters import RecursiveCharacterTextSplitter\n",
        "\n",
        "#load the blog\n",
        "loader= WebBaseLoader(\"https://lilianweng.github.io/posts/2023-06-23-agent/\")\n",
        "docs=loader.load()\n",
        "\n",
        "loader=WebBaseLoader(\"https://lilianweng.github.io/posts/2024-02-05-human-data-quality/\")\n",
        "docs.extend(loader.load())"
      ],
      "metadata": {
        "id": "VopFagTFhzpb"
      },
      "execution_count": null,
      "outputs": []
    },
    {
      "cell_type": "markdown",
      "source": [
        "MAKE RAG CHAIN"
      ],
      "metadata": {
        "id": "9RBqIQYjko2I"
      }
    },
    {
      "cell_type": "code",
      "source": [
        "#make imports\n",
        "import uuid\n",
        "from langchain.documents import documents\n",
        "from langchain_core.output_parsers import StrOutputParser\n",
        "from langchain_core.prompts import ChatPromptTemplate\n",
        "from langchain_openai import ChatOpenAI\n",
        "\n",
        "#make RAG chain\n",
        "chain=(\n",
        "    {\"doc\":lambda x: x.page_content}\n",
        "    | ChatPromptTemplate.from_template(\"Summarize the following document:\\n\\n{doc}\")\n",
        "    |ChatOpenAI(model=\"gpt-3.5-turbo\", max_retries=0)\n",
        "    |StrOutputParser()\n",
        ")\n",
        "\n",
        "summaries=chain.batch(docs,{\"max_concurrency\":5})"
      ],
      "metadata": {
        "id": "HonElwGJkrFm"
      },
      "execution_count": null,
      "outputs": []
    },
    {
      "cell_type": "markdown",
      "source": [
        "EMBED SUMMARY DOCUMENTS"
      ],
      "metadata": {
        "id": "2tZGXEWsoKOl"
      }
    },
    {
      "cell_type": "code",
      "source": [
        "#make imports\n",
        "from langchain.imports import InMemoryByteStore\n",
        "from langchain_openai import OpenAIEmbeddings\n",
        "from langchain_community.vectorstores import Chroma\n",
        "from langchain.retrievers.multi_vector import MultiVectorRetriever\n",
        "\n",
        "#vectorstore to store the chunks\n",
        "vectorstore=Chroma(collection_name=\"summaries\",\n",
        "                   embedding_function=OpanAIEmbeddings())\n",
        "\n",
        "#storing parent documents\n",
        "store=InMemoryByteStore()\n",
        "id_key=\"doc_id\"\n",
        "\n",
        "#define retriever\n",
        "retriever=MultiVectorRetriever(vectorstore=vectorstore,\n",
        "                               byte_store=store,\n",
        "                               id_key=id_key,\n",
        "                               )\n",
        "\n",
        "doc_ids=[str(uuid.uuid4()) for _ in docs]\n",
        "\n",
        "#make list of summary docs\n",
        "summary_docs=[Document(page_content=s,metadata={id_key:doc_ids[i]}) for i,s in enumerate(summaries)]\n",
        "\n",
        "#Retriever for documents\n",
        "retriever.vectorstore.add_documents(summary_docs)\n",
        "retriever.docstore.mset(list(zip(doc_ids,docs)))"
      ],
      "metadata": {
        "id": "mwsEhqyloMTf"
      },
      "execution_count": null,
      "outputs": []
    },
    {
      "cell_type": "code",
      "source": [
        "query=\"Memory in Agents\"\n",
        "sub_docs=vectorstore.similarity_search(query,k=1)\n",
        "sub_docs[0]"
      ],
      "metadata": {
        "id": "iOUuzBXTsZHn"
      },
      "execution_count": null,
      "outputs": []
    },
    {
      "cell_type": "code",
      "source": [
        "retrieved_docs=retriever.get_relevant_documents(query,n_results=1)\n",
        "retrieved_docs[0].page_content[0:500]"
      ],
      "metadata": {
        "id": "2LtcahsStV39"
      },
      "execution_count": null,
      "outputs": []
    }
  ]
}