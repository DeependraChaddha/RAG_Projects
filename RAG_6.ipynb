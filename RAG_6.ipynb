{
  "nbformat": 4,
  "nbformat_minor": 0,
  "metadata": {
    "colab": {
      "provenance": [],
      "authorship_tag": "ABX9TyO5a6V955WIPsCEOL503KDB",
      "include_colab_link": true
    },
    "kernelspec": {
      "name": "python3",
      "display_name": "Python 3"
    },
    "language_info": {
      "name": "python"
    }
  },
  "cells": [
    {
      "cell_type": "markdown",
      "metadata": {
        "id": "view-in-github",
        "colab_type": "text"
      },
      "source": [
        "<a href=\"https://colab.research.google.com/github/DeependraChaddha/RAG_Projects/blob/main/RAG_6.ipynb\" target=\"_parent\"><img src=\"https://colab.research.google.com/assets/colab-badge.svg\" alt=\"Open In Colab\"/></a>"
      ]
    },
    {
      "cell_type": "markdown",
      "source": [
        "#SET UP ENVIRONMENT"
      ],
      "metadata": {
        "id": "0cL8aTiVDuZB"
      }
    },
    {
      "cell_type": "markdown",
      "source": [
        "INSTALL PACKAGES"
      ],
      "metadata": {
        "id": "_sOdVHKFECKA"
      }
    },
    {
      "cell_type": "code",
      "execution_count": null,
      "metadata": {
        "id": "INg_vlhEDgQr"
      },
      "outputs": [],
      "source": [
        "!pip install langchain_community tiktoken langchain-openai langchainhub chromadb langchain youtube-transcript-api pytube"
      ]
    },
    {
      "cell_type": "markdown",
      "source": [
        "SETTING UP LANGSMITH"
      ],
      "metadata": {
        "id": "6yy7YJICEGb6"
      }
    },
    {
      "cell_type": "code",
      "source": [
        "import os\n",
        "os.environ['LANGCHAIN_TRACING_V2']='true'\n",
        "os.environ['LANGCHAIN_ENDPOINT']= 'https://api.smith.langchain.com'\n",
        "os.environ['LANGCHAIN_API_KEY']=###YOUR API KEY###"
      ],
      "metadata": {
        "id": "CctIwwpnEI_O"
      },
      "execution_count": null,
      "outputs": []
    },
    {
      "cell_type": "markdown",
      "source": [
        "SETTING OPENAI"
      ],
      "metadata": {
        "id": "mah5uPm1EMpU"
      }
    },
    {
      "cell_type": "code",
      "source": [
        "os.environ['OPENAI_API_KEY']=###YOUR API KEY###"
      ],
      "metadata": {
        "id": "HKxoYaSoEPDu"
      },
      "execution_count": null,
      "outputs": []
    },
    {
      "cell_type": "markdown",
      "source": [
        "##ColBERT"
      ],
      "metadata": {
        "id": "bscbBVgOEYBw"
      }
    },
    {
      "cell_type": "markdown",
      "source": [
        "ColBERT uses tokenizes the documents and the query separately by using different or same models. Then, the score of each document is decided by the sum of the maximum similarity of each query embedding to any of the document embeddings"
      ],
      "metadata": {
        "id": "5yKtrHG_EdMP"
      }
    },
    {
      "cell_type": "code",
      "source": [
        "!pip install -U ragatouille"
      ],
      "metadata": {
        "id": "STcJUYQ6HE0c"
      },
      "execution_count": null,
      "outputs": []
    },
    {
      "cell_type": "code",
      "source": [
        "from ragatouille import RAGPretrainedModel\n",
        "RAG=RAGPretrainedModel.from_pretrained(\"colbert-ir/colbertv2.0\")"
      ],
      "metadata": {
        "id": "6t5TQ09THRSO"
      },
      "execution_count": null,
      "outputs": []
    },
    {
      "cell_type": "code",
      "source": [
        "import requests\n",
        "\n",
        "def get_wikipedia_page(title:str ###title: str -> Title of the Wiki page###\n",
        "                       ):\n",
        "  ###Retrieves full text context from Wikipedia page and returns it as raw string###\n",
        "\n",
        "  #Wikipedia API endpoint\n",
        "  URL=\"https://en.wikipedia.org/w/api.php\"\n",
        "\n",
        "  #Parameters of the API Endpoint\n",
        "  params={\"action\":\"query\",\n",
        "          \"format\":\"json\",\n",
        "          \"titles\":title,\n",
        "          \"prop\":\"extracts\",\n",
        "          \"explaintext\":True,\n",
        "          }\n",
        "  #Custom use-agent header\n",
        "  headers={\"User-Agent\":\"RAGatouille_tutorial/0.0.1 (ben@clavie.eu)\"}\n",
        "\n",
        "  response=requests.get(URL,params=params, headers=headers)\n",
        "  data=response.json()\n",
        "\n",
        "  #Extracting page content\n",
        "  page=next(iter(data[\"query\"][\"pages\"].values()))\n",
        "\n",
        "  return page[\"extract\"] if \"extract\" in page else None\n",
        "full_document=get_wikipedia_page(\"Elon Musk\")\n",
        "\n",
        "\n"
      ],
      "metadata": {
        "id": "nL1PAWE8H3Rg"
      },
      "execution_count": null,
      "outputs": []
    },
    {
      "cell_type": "code",
      "source": [
        "RAG.index(collection=[full_document],\n",
        "          index_name=\"Musk-123\",\n",
        "          max_document_length=180,\n",
        "          split_documents=True,\n",
        "          )"
      ],
      "metadata": {
        "id": "6iYQdo_58lI6"
      },
      "execution_count": null,
      "outputs": []
    },
    {
      "cell_type": "code",
      "source": [
        "results=RAG.search(query=\"What company did Elon Musk make?\",k=5)\n",
        "results"
      ],
      "metadata": {
        "id": "DP2T3Ipb9LN6"
      },
      "execution_count": null,
      "outputs": []
    }
  ]
}